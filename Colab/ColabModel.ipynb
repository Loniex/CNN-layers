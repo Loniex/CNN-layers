{
  "nbformat": 4,
  "nbformat_minor": 0,
  "metadata": {
    "colab": {
      "provenance": [],
      "gpuType": "T4"
    },
    "kernelspec": {
      "name": "python3",
      "display_name": "Python 3"
    },
    "language_info": {
      "name": "python"
    },
    "accelerator": "GPU"
  },
  "cells": [
    {
      "cell_type": "code",
      "source": [
        "!pip install --upgrade pip\n",
        "!pip install --upgrade keras\n",
        "!pip install -U -q tensorflow\n"
      ],
      "metadata": {
        "colab": {
          "base_uri": "https://localhost:8080/"
        },
        "id": "Jpr5xhQ34uyD",
        "outputId": "1e8715f4-6401-47cf-f086-ca9e6fd0dcc9"
      },
      "execution_count": 1,
      "outputs": [
        {
          "output_type": "stream",
          "name": "stdout",
          "text": [
            "Requirement already satisfied: pip in /usr/local/lib/python3.10/dist-packages (24.1.2)\n",
            "Collecting pip\n",
            "  Downloading pip-24.3.1-py3-none-any.whl.metadata (3.7 kB)\n",
            "Downloading pip-24.3.1-py3-none-any.whl (1.8 MB)\n",
            "\u001b[2K   \u001b[90m━━━━━━━━━━━━━━━━━━━━━━━━━━━━━━━━━━━━━━━━\u001b[0m \u001b[32m1.8/1.8 MB\u001b[0m \u001b[31m17.3 MB/s\u001b[0m eta \u001b[36m0:00:00\u001b[0m\n",
            "\u001b[?25hInstalling collected packages: pip\n",
            "  Attempting uninstall: pip\n",
            "    Found existing installation: pip 24.1.2\n",
            "    Uninstalling pip-24.1.2:\n",
            "      Successfully uninstalled pip-24.1.2\n",
            "Successfully installed pip-24.3.1\n",
            "Requirement already satisfied: keras in /usr/local/lib/python3.10/dist-packages (3.5.0)\n",
            "Collecting keras\n",
            "  Downloading keras-3.6.0-py3-none-any.whl.metadata (5.8 kB)\n",
            "Requirement already satisfied: absl-py in /usr/local/lib/python3.10/dist-packages (from keras) (1.4.0)\n",
            "Requirement already satisfied: numpy in /usr/local/lib/python3.10/dist-packages (from keras) (1.26.4)\n",
            "Requirement already satisfied: rich in /usr/local/lib/python3.10/dist-packages (from keras) (13.9.4)\n",
            "Requirement already satisfied: namex in /usr/local/lib/python3.10/dist-packages (from keras) (0.0.8)\n",
            "Requirement already satisfied: h5py in /usr/local/lib/python3.10/dist-packages (from keras) (3.12.1)\n",
            "Requirement already satisfied: optree in /usr/local/lib/python3.10/dist-packages (from keras) (0.13.1)\n",
            "Requirement already satisfied: ml-dtypes in /usr/local/lib/python3.10/dist-packages (from keras) (0.4.1)\n",
            "Requirement already satisfied: packaging in /usr/local/lib/python3.10/dist-packages (from keras) (24.2)\n",
            "Requirement already satisfied: typing-extensions>=4.5.0 in /usr/local/lib/python3.10/dist-packages (from optree->keras) (4.12.2)\n",
            "Requirement already satisfied: markdown-it-py>=2.2.0 in /usr/local/lib/python3.10/dist-packages (from rich->keras) (3.0.0)\n",
            "Requirement already satisfied: pygments<3.0.0,>=2.13.0 in /usr/local/lib/python3.10/dist-packages (from rich->keras) (2.18.0)\n",
            "Requirement already satisfied: mdurl~=0.1 in /usr/local/lib/python3.10/dist-packages (from markdown-it-py>=2.2.0->rich->keras) (0.1.2)\n",
            "Downloading keras-3.6.0-py3-none-any.whl (1.2 MB)\n",
            "\u001b[2K   \u001b[90m━━━━━━━━━━━━━━━━━━━━━━━━━━━━━━━━━━━━━━━━\u001b[0m \u001b[32m1.2/1.2 MB\u001b[0m \u001b[31m26.8 MB/s\u001b[0m eta \u001b[36m0:00:00\u001b[0m\n",
            "\u001b[?25hInstalling collected packages: keras\n",
            "  Attempting uninstall: keras\n",
            "    Found existing installation: keras 3.5.0\n",
            "    Uninstalling keras-3.5.0:\n",
            "      Successfully uninstalled keras-3.5.0\n",
            "Successfully installed keras-3.6.0\n",
            "\u001b[2K   \u001b[90m━━━━━━━━━━━━━━━━━━━━━━━━━━━━━━━━━━━━━━━━\u001b[0m \u001b[32m615.3/615.3 MB\u001b[0m \u001b[31m44.2 MB/s\u001b[0m eta \u001b[36m0:00:00\u001b[0m\n",
            "\u001b[2K   \u001b[90m━━━━━━━━━━━━━━━━━━━━━━━━━━━━━━━━━━━━━━━━\u001b[0m \u001b[32m5.5/5.5 MB\u001b[0m \u001b[31m132.8 MB/s\u001b[0m eta \u001b[36m0:00:00\u001b[0m\n",
            "\u001b[?25h\u001b[31mERROR: pip's dependency resolver does not currently take into account all the packages that are installed. This behaviour is the source of the following dependency conflicts.\n",
            "tf-keras 2.17.0 requires tensorflow<2.18,>=2.17, but you have tensorflow 2.18.0 which is incompatible.\u001b[0m\u001b[31m\n",
            "\u001b[0m"
          ]
        }
      ]
    },
    {
      "cell_type": "code",
      "source": [
        "# From simple audio example\n",
        "import os\n",
        "import pathlib\n",
        "\n",
        "import matplotlib.pyplot as plt\n",
        "import numpy as np\n",
        "import seaborn as sns\n",
        "import tensorflow as tf\n",
        "\n",
        "from keras import layers\n",
        "from keras import models\n",
        "from IPython import display\n",
        "\n"
      ],
      "metadata": {
        "id": "6vDG3KG50i6v"
      },
      "execution_count": 2,
      "outputs": []
    },
    {
      "cell_type": "code",
      "source": [
        "import sys\n",
        "\n",
        "import numpy as np\n",
        "from keras import Model\n",
        "from keras import Layer\n",
        "# Load model from\n",
        "def import_model(filepath: str) -> Model:\n",
        "    model: Model = models.load_model(filepath)\n",
        "    return model\n",
        "\n",
        "model = import_model('model_export.keras')\n",
        "print(model.summary())\n",
        "\n"
      ],
      "metadata": {
        "colab": {
          "base_uri": "https://localhost:8080/",
          "height": 482
        },
        "id": "xMIvtPLYqxK5",
        "outputId": "cdc9db62-dd30-4706-95cb-edae264e3c62"
      },
      "execution_count": 4,
      "outputs": [
        {
          "output_type": "display_data",
          "data": {
            "text/plain": [
              "\u001b[1mModel: \"sequential\"\u001b[0m\n"
            ],
            "text/html": [
              "<pre style=\"white-space:pre;overflow-x:auto;line-height:normal;font-family:Menlo,'DejaVu Sans Mono',consolas,'Courier New',monospace\"><span style=\"font-weight: bold\">Model: \"sequential\"</span>\n",
              "</pre>\n"
            ]
          },
          "metadata": {}
        },
        {
          "output_type": "display_data",
          "data": {
            "text/plain": [
              "┏━━━━━━━━━━━━━━━━━━━━━━━━━━━━━━━━━━━━━━┳━━━━━━━━━━━━━━━━━━━━━━━━━━━━━┳━━━━━━━━━━━━━━━━━┓\n",
              "┃\u001b[1m \u001b[0m\u001b[1mLayer (type)                        \u001b[0m\u001b[1m \u001b[0m┃\u001b[1m \u001b[0m\u001b[1mOutput Shape               \u001b[0m\u001b[1m \u001b[0m┃\u001b[1m \u001b[0m\u001b[1m        Param #\u001b[0m\u001b[1m \u001b[0m┃\n",
              "┡━━━━━━━━━━━━━━━━━━━━━━━━━━━━━━━━━━━━━━╇━━━━━━━━━━━━━━━━━━━━━━━━━━━━━╇━━━━━━━━━━━━━━━━━┩\n",
              "│ resizing (\u001b[38;5;33mResizing\u001b[0m)                  │ (\u001b[38;5;45mNone\u001b[0m, \u001b[38;5;34m32\u001b[0m, \u001b[38;5;34m32\u001b[0m, \u001b[38;5;34m1\u001b[0m)           │               \u001b[38;5;34m0\u001b[0m │\n",
              "├──────────────────────────────────────┼─────────────────────────────┼─────────────────┤\n",
              "│ normalization (\u001b[38;5;33mNormalization\u001b[0m)        │ (\u001b[38;5;45mNone\u001b[0m, \u001b[38;5;34m32\u001b[0m, \u001b[38;5;34m32\u001b[0m, \u001b[38;5;34m1\u001b[0m)           │               \u001b[38;5;34m3\u001b[0m │\n",
              "├──────────────────────────────────────┼─────────────────────────────┼─────────────────┤\n",
              "│ conv2d (\u001b[38;5;33mConv2D\u001b[0m)                      │ (\u001b[38;5;45mNone\u001b[0m, \u001b[38;5;34m30\u001b[0m, \u001b[38;5;34m30\u001b[0m, \u001b[38;5;34m32\u001b[0m)          │             \u001b[38;5;34m320\u001b[0m │\n",
              "├──────────────────────────────────────┼─────────────────────────────┼─────────────────┤\n",
              "│ conv2d_1 (\u001b[38;5;33mConv2D\u001b[0m)                    │ (\u001b[38;5;45mNone\u001b[0m, \u001b[38;5;34m28\u001b[0m, \u001b[38;5;34m28\u001b[0m, \u001b[38;5;34m64\u001b[0m)          │          \u001b[38;5;34m18,496\u001b[0m │\n",
              "├──────────────────────────────────────┼─────────────────────────────┼─────────────────┤\n",
              "│ max_pooling2d (\u001b[38;5;33mMaxPooling2D\u001b[0m)         │ (\u001b[38;5;45mNone\u001b[0m, \u001b[38;5;34m14\u001b[0m, \u001b[38;5;34m14\u001b[0m, \u001b[38;5;34m64\u001b[0m)          │               \u001b[38;5;34m0\u001b[0m │\n",
              "├──────────────────────────────────────┼─────────────────────────────┼─────────────────┤\n",
              "│ dropout (\u001b[38;5;33mDropout\u001b[0m)                    │ (\u001b[38;5;45mNone\u001b[0m, \u001b[38;5;34m14\u001b[0m, \u001b[38;5;34m14\u001b[0m, \u001b[38;5;34m64\u001b[0m)          │               \u001b[38;5;34m0\u001b[0m │\n",
              "├──────────────────────────────────────┼─────────────────────────────┼─────────────────┤\n",
              "│ flatten (\u001b[38;5;33mFlatten\u001b[0m)                    │ (\u001b[38;5;45mNone\u001b[0m, \u001b[38;5;34m12544\u001b[0m)               │               \u001b[38;5;34m0\u001b[0m │\n",
              "├──────────────────────────────────────┼─────────────────────────────┼─────────────────┤\n",
              "│ dense (\u001b[38;5;33mDense\u001b[0m)                        │ (\u001b[38;5;45mNone\u001b[0m, \u001b[38;5;34m128\u001b[0m)                 │       \u001b[38;5;34m1,605,760\u001b[0m │\n",
              "├──────────────────────────────────────┼─────────────────────────────┼─────────────────┤\n",
              "│ dropout_1 (\u001b[38;5;33mDropout\u001b[0m)                  │ (\u001b[38;5;45mNone\u001b[0m, \u001b[38;5;34m128\u001b[0m)                 │               \u001b[38;5;34m0\u001b[0m │\n",
              "├──────────────────────────────────────┼─────────────────────────────┼─────────────────┤\n",
              "│ dense_1 (\u001b[38;5;33mDense\u001b[0m)                      │ (\u001b[38;5;45mNone\u001b[0m, \u001b[38;5;34m8\u001b[0m)                   │           \u001b[38;5;34m1,032\u001b[0m │\n",
              "└──────────────────────────────────────┴─────────────────────────────┴─────────────────┘\n"
            ],
            "text/html": [
              "<pre style=\"white-space:pre;overflow-x:auto;line-height:normal;font-family:Menlo,'DejaVu Sans Mono',consolas,'Courier New',monospace\">┏━━━━━━━━━━━━━━━━━━━━━━━━━━━━━━━━━━━━━━┳━━━━━━━━━━━━━━━━━━━━━━━━━━━━━┳━━━━━━━━━━━━━━━━━┓\n",
              "┃<span style=\"font-weight: bold\"> Layer (type)                         </span>┃<span style=\"font-weight: bold\"> Output Shape                </span>┃<span style=\"font-weight: bold\">         Param # </span>┃\n",
              "┡━━━━━━━━━━━━━━━━━━━━━━━━━━━━━━━━━━━━━━╇━━━━━━━━━━━━━━━━━━━━━━━━━━━━━╇━━━━━━━━━━━━━━━━━┩\n",
              "│ resizing (<span style=\"color: #0087ff; text-decoration-color: #0087ff\">Resizing</span>)                  │ (<span style=\"color: #00d7ff; text-decoration-color: #00d7ff\">None</span>, <span style=\"color: #00af00; text-decoration-color: #00af00\">32</span>, <span style=\"color: #00af00; text-decoration-color: #00af00\">32</span>, <span style=\"color: #00af00; text-decoration-color: #00af00\">1</span>)           │               <span style=\"color: #00af00; text-decoration-color: #00af00\">0</span> │\n",
              "├──────────────────────────────────────┼─────────────────────────────┼─────────────────┤\n",
              "│ normalization (<span style=\"color: #0087ff; text-decoration-color: #0087ff\">Normalization</span>)        │ (<span style=\"color: #00d7ff; text-decoration-color: #00d7ff\">None</span>, <span style=\"color: #00af00; text-decoration-color: #00af00\">32</span>, <span style=\"color: #00af00; text-decoration-color: #00af00\">32</span>, <span style=\"color: #00af00; text-decoration-color: #00af00\">1</span>)           │               <span style=\"color: #00af00; text-decoration-color: #00af00\">3</span> │\n",
              "├──────────────────────────────────────┼─────────────────────────────┼─────────────────┤\n",
              "│ conv2d (<span style=\"color: #0087ff; text-decoration-color: #0087ff\">Conv2D</span>)                      │ (<span style=\"color: #00d7ff; text-decoration-color: #00d7ff\">None</span>, <span style=\"color: #00af00; text-decoration-color: #00af00\">30</span>, <span style=\"color: #00af00; text-decoration-color: #00af00\">30</span>, <span style=\"color: #00af00; text-decoration-color: #00af00\">32</span>)          │             <span style=\"color: #00af00; text-decoration-color: #00af00\">320</span> │\n",
              "├──────────────────────────────────────┼─────────────────────────────┼─────────────────┤\n",
              "│ conv2d_1 (<span style=\"color: #0087ff; text-decoration-color: #0087ff\">Conv2D</span>)                    │ (<span style=\"color: #00d7ff; text-decoration-color: #00d7ff\">None</span>, <span style=\"color: #00af00; text-decoration-color: #00af00\">28</span>, <span style=\"color: #00af00; text-decoration-color: #00af00\">28</span>, <span style=\"color: #00af00; text-decoration-color: #00af00\">64</span>)          │          <span style=\"color: #00af00; text-decoration-color: #00af00\">18,496</span> │\n",
              "├──────────────────────────────────────┼─────────────────────────────┼─────────────────┤\n",
              "│ max_pooling2d (<span style=\"color: #0087ff; text-decoration-color: #0087ff\">MaxPooling2D</span>)         │ (<span style=\"color: #00d7ff; text-decoration-color: #00d7ff\">None</span>, <span style=\"color: #00af00; text-decoration-color: #00af00\">14</span>, <span style=\"color: #00af00; text-decoration-color: #00af00\">14</span>, <span style=\"color: #00af00; text-decoration-color: #00af00\">64</span>)          │               <span style=\"color: #00af00; text-decoration-color: #00af00\">0</span> │\n",
              "├──────────────────────────────────────┼─────────────────────────────┼─────────────────┤\n",
              "│ dropout (<span style=\"color: #0087ff; text-decoration-color: #0087ff\">Dropout</span>)                    │ (<span style=\"color: #00d7ff; text-decoration-color: #00d7ff\">None</span>, <span style=\"color: #00af00; text-decoration-color: #00af00\">14</span>, <span style=\"color: #00af00; text-decoration-color: #00af00\">14</span>, <span style=\"color: #00af00; text-decoration-color: #00af00\">64</span>)          │               <span style=\"color: #00af00; text-decoration-color: #00af00\">0</span> │\n",
              "├──────────────────────────────────────┼─────────────────────────────┼─────────────────┤\n",
              "│ flatten (<span style=\"color: #0087ff; text-decoration-color: #0087ff\">Flatten</span>)                    │ (<span style=\"color: #00d7ff; text-decoration-color: #00d7ff\">None</span>, <span style=\"color: #00af00; text-decoration-color: #00af00\">12544</span>)               │               <span style=\"color: #00af00; text-decoration-color: #00af00\">0</span> │\n",
              "├──────────────────────────────────────┼─────────────────────────────┼─────────────────┤\n",
              "│ dense (<span style=\"color: #0087ff; text-decoration-color: #0087ff\">Dense</span>)                        │ (<span style=\"color: #00d7ff; text-decoration-color: #00d7ff\">None</span>, <span style=\"color: #00af00; text-decoration-color: #00af00\">128</span>)                 │       <span style=\"color: #00af00; text-decoration-color: #00af00\">1,605,760</span> │\n",
              "├──────────────────────────────────────┼─────────────────────────────┼─────────────────┤\n",
              "│ dropout_1 (<span style=\"color: #0087ff; text-decoration-color: #0087ff\">Dropout</span>)                  │ (<span style=\"color: #00d7ff; text-decoration-color: #00d7ff\">None</span>, <span style=\"color: #00af00; text-decoration-color: #00af00\">128</span>)                 │               <span style=\"color: #00af00; text-decoration-color: #00af00\">0</span> │\n",
              "├──────────────────────────────────────┼─────────────────────────────┼─────────────────┤\n",
              "│ dense_1 (<span style=\"color: #0087ff; text-decoration-color: #0087ff\">Dense</span>)                      │ (<span style=\"color: #00d7ff; text-decoration-color: #00d7ff\">None</span>, <span style=\"color: #00af00; text-decoration-color: #00af00\">8</span>)                   │           <span style=\"color: #00af00; text-decoration-color: #00af00\">1,032</span> │\n",
              "└──────────────────────────────────────┴─────────────────────────────┴─────────────────┘\n",
              "</pre>\n"
            ]
          },
          "metadata": {}
        },
        {
          "output_type": "display_data",
          "data": {
            "text/plain": [
              "\u001b[1m Total params: \u001b[0m\u001b[38;5;34m4,876,829\u001b[0m (18.60 MB)\n"
            ],
            "text/html": [
              "<pre style=\"white-space:pre;overflow-x:auto;line-height:normal;font-family:Menlo,'DejaVu Sans Mono',consolas,'Courier New',monospace\"><span style=\"font-weight: bold\"> Total params: </span><span style=\"color: #00af00; text-decoration-color: #00af00\">4,876,829</span> (18.60 MB)\n",
              "</pre>\n"
            ]
          },
          "metadata": {}
        },
        {
          "output_type": "display_data",
          "data": {
            "text/plain": [
              "\u001b[1m Trainable params: \u001b[0m\u001b[38;5;34m1,625,608\u001b[0m (6.20 MB)\n"
            ],
            "text/html": [
              "<pre style=\"white-space:pre;overflow-x:auto;line-height:normal;font-family:Menlo,'DejaVu Sans Mono',consolas,'Courier New',monospace\"><span style=\"font-weight: bold\"> Trainable params: </span><span style=\"color: #00af00; text-decoration-color: #00af00\">1,625,608</span> (6.20 MB)\n",
              "</pre>\n"
            ]
          },
          "metadata": {}
        },
        {
          "output_type": "display_data",
          "data": {
            "text/plain": [
              "\u001b[1m Non-trainable params: \u001b[0m\u001b[38;5;34m3\u001b[0m (16.00 B)\n"
            ],
            "text/html": [
              "<pre style=\"white-space:pre;overflow-x:auto;line-height:normal;font-family:Menlo,'DejaVu Sans Mono',consolas,'Courier New',monospace\"><span style=\"font-weight: bold\"> Non-trainable params: </span><span style=\"color: #00af00; text-decoration-color: #00af00\">3</span> (16.00 B)\n",
              "</pre>\n"
            ]
          },
          "metadata": {}
        },
        {
          "output_type": "display_data",
          "data": {
            "text/plain": [
              "\u001b[1m Optimizer params: \u001b[0m\u001b[38;5;34m3,251,218\u001b[0m (12.40 MB)\n"
            ],
            "text/html": [
              "<pre style=\"white-space:pre;overflow-x:auto;line-height:normal;font-family:Menlo,'DejaVu Sans Mono',consolas,'Courier New',monospace\"><span style=\"font-weight: bold\"> Optimizer params: </span><span style=\"color: #00af00; text-decoration-color: #00af00\">3,251,218</span> (12.40 MB)\n",
              "</pre>\n"
            ]
          },
          "metadata": {}
        },
        {
          "output_type": "stream",
          "name": "stdout",
          "text": [
            "None\n"
          ]
        }
      ]
    },
    {
      "cell_type": "code",
      "source": [
        "# Split model into layers with inputs, weights and biases\n",
        "def get_layer_weights(layer: str, model: Model) -> list[np.ndarray]:\n",
        "    return model.get_layer(layer).get_weights()\n",
        "\n",
        "\n",
        "def get_weights_shape(layer: list[np.ndarray]):\n",
        "    tmp = []\n",
        "    for i in layer:\n",
        "        tmp.append(i.shape)\n",
        "    return tmp\n",
        "\n",
        "\n",
        "\n",
        "class DummyLayer(Layer):\n",
        "    def __init__(self):\n",
        "        super(DummyLayer, self).__init__()\n",
        "\n",
        "    def call(self, inputs):\n",
        "        return inputs\n",
        "\n",
        "def get_reference_layer(layer: str, model: Model):\n",
        "    \"\"\"Split the model in to three parts start, layer and rest.\n",
        "\n",
        "    Example:\n",
        "    ```python\n",
        "    model = import_model(\"../model/test_model.keras\")\n",
        "    (start, layer, end) = get_reference_layer(\"dense\", model)\n",
        "\n",
        "    result = start(waveform)\n",
        "    layer_result = layer(result)\n",
        "    print(layer_result)\n",
        "    ```\n",
        "    \"\"\"\n",
        "    modelStart = models.Sequential()\n",
        "    selectedLayer: Layer\n",
        "    modelEnd = models.Sequential()\n",
        "\n",
        "    start = True\n",
        "    l: Layer\n",
        "    for l in model.layers:\n",
        "        if l.name == layer:\n",
        "            start = False\n",
        "            selectedLayer = l\n",
        "            continue\n",
        "        if start:\n",
        "            modelStart.add(l)\n",
        "        else:\n",
        "            modelEnd.add(l)\n",
        "\n",
        "    if not len(modelStart.layers):\n",
        "        modelStart.add(DummyLayer())\n",
        "    if not len(modelEnd.layers):\n",
        "        modelEnd.add(DummyLayer())\n",
        "\n",
        "    modelStart.build(model.input_shape)\n",
        "    modelEnd.build(selectedLayer.output.shape)\n",
        "    return (modelStart, selectedLayer, modelEnd)\n",
        "\n"
      ],
      "metadata": {
        "id": "VwO54FcMW-12"
      },
      "execution_count": 6,
      "outputs": []
    },
    {
      "cell_type": "code",
      "source": [
        "#Load audio dataset from Google\n",
        "DATASET_PATH = 'data/mini_speech_commands_extracted'\n",
        "\n",
        "data_dir = pathlib.Path(DATASET_PATH)\n",
        "if not data_dir.exists():\n",
        "  tf.keras.utils.get_file(\n",
        "      'mini_speech_commands.zip',\n",
        "      origin=\"http://storage.googleapis.com/download.tensorflow.org/data/mini_speech_commands.zip\",\n",
        "      extract=True,\n",
        "      cache_dir='.', cache_subdir='data')"
      ],
      "metadata": {
        "id": "rERnpFPJb_Lg",
        "colab": {
          "base_uri": "https://localhost:8080/"
        },
        "outputId": "689fa32c-106b-4f95-d2a4-c2297989a293"
      },
      "execution_count": 7,
      "outputs": [
        {
          "output_type": "stream",
          "name": "stdout",
          "text": [
            "Downloading data from http://storage.googleapis.com/download.tensorflow.org/data/mini_speech_commands.zip\n",
            "\u001b[1m182082353/182082353\u001b[0m \u001b[32m━━━━━━━━━━━━━━━━━━━━\u001b[0m\u001b[37m\u001b[0m \u001b[1m9s\u001b[0m 0us/step\n"
          ]
        }
      ]
    },
    {
      "cell_type": "code",
      "source": [
        "# Function for FFT and Spectrogram\n",
        "def get_spectrogram(waveform):\n",
        "  # Convert the waveform to a spectrogram via a STFT.\n",
        "  spectrogram = tf.signal.stft(\n",
        "      waveform, frame_length=255, frame_step=128)\n",
        "  # Obtain the magnitude of the STFT.\n",
        "  spectrogram = tf.abs(spectrogram)\n",
        "  # Add a `channels` dimension, so that the spectrogram can be used\n",
        "  # as image-like input data with convolution layers (which expect\n",
        "  # shape (`batch_size`, `height`, `width`, `channels`).\n",
        "  spectrogram = spectrogram[..., tf.newaxis]\n",
        "  return spectrogram\n",
        "\n"
      ],
      "metadata": {
        "id": "LlWiqVMambgu"
      },
      "execution_count": 8,
      "outputs": []
    },
    {
      "cell_type": "code",
      "source": [
        "x = data_dir/'mini_speech_commands/up/016e2c6d_nohash_0.wav'\n",
        "x = tf.io.read_file(str(x))\n",
        "x, sample_rate = tf.audio.decode_wav(x, desired_channels=1, desired_samples=16000,)\n",
        "x = tf.squeeze(x, axis=-1)\n",
        "waveform = x\n",
        "x = get_spectrogram(x)\n",
        "x = x[tf.newaxis,...]\n",
        "\n",
        "prediction = model(x)\n",
        "x_labels = ['no', 'yes', 'down', 'go', 'left', 'up', 'right', 'stop']\n",
        "plt.bar(x_labels, tf.nn.softmax(prediction[0]))\n",
        "plt.title('No')\n",
        "plt.show()\n",
        "\n",
        "display.display(display.Audio(waveform, rate=16000))"
      ],
      "metadata": {
        "colab": {
          "base_uri": "https://localhost:8080/",
          "height": 510
        },
        "id": "N6wuJ78WYGDE",
        "outputId": "1bf63d40-fccc-4fc3-a501-00e2ea33f40b"
      },
      "execution_count": 10,
      "outputs": [
        {
          "output_type": "display_data",
          "data": {
            "text/plain": [
              "<Figure size 640x480 with 1 Axes>"
            ],
            "image/png": "[encoded data removed]"
          },
          "metadata": {}
        },
        {
          "output_type": "display_data",
          "data": {
            "text/plain": [
              "<IPython.lib.display.Audio object>"
            ],
            "text/html": [
              "\n",
              "                <audio  controls=\"controls\" >\n",
              "                    <source src=\"data:audio/wav;base64,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\" type=\"audio/wav\" />\n",
              "                    Your browser does not support the audio element.\n",
              "                </audio>\n",
              "              "
            ]
          },
          "metadata": {}
        }
      ]
    },
    {
      "cell_type": "code",
      "source": [
        "# Tähän tehdään neuroverkon viimeinen laskenta toka dense_1 layerille\n",
        "def data_get(inputs, weights, bias):\n",
        "   inputs = np.array(inputs)\n",
        "   weights = np.array(weights)\n",
        "   bias = np.array(bias)\n",
        "\n",
        "   print(\"Input shape:\", inputs.shape)\n",
        "   print(\"Weights shape:\", weights.shape, \"Wights have: \", weights)\n",
        "   print(\"Bias shape:\", bias.shape, \"bias\", bias)\n",
        "\n",
        "def data_get_noArgs(inputs):\n",
        "   inputs = np.array(inputs)\n",
        "\n",
        "   print(\"Input shape:\", inputs.shape[0], \",\", inputs.shape[1], \",\", inputs.shape[2], \",\", inputs.shape[3])\n",
        "   return 0\n",
        "\n",
        "#----------------------------------------------------------------------------------#\n",
        "\n",
        "def ReLU(x):\n",
        "    if(x >= 0):\n",
        "     return x\n",
        "    else:\n",
        "     return 0\n",
        "\n",
        "#----------------------------------------------------------------------------------#\n",
        "\n",
        "def conv2dLayer1(inputs, weights, bias):\n",
        "    inputs = np.array(inputs)\n",
        "    weights = np.array(weights)\n",
        "    bias = np.array(bias)\n",
        "\n",
        "    batch, height, width, channels = inputs.shape\n",
        "    outputChannels = bias.shape[0]\n",
        "    filterHeight = weights.shape[0]\n",
        "    filterWidth = weights.shape[1]\n",
        "    resHeight = height - filterHeight + 1\n",
        "    resWidth = width - filterWidth + 1\n",
        "    result = np.zeros((batch, resHeight, resWidth, outputChannels))\n",
        "\n",
        "    for b in range(batch):\n",
        "       for ch in range(outputChannels):\n",
        "          for rH in range(resHeight):\n",
        "             for rW in range(resWidth):\n",
        "                filterSum = 0\n",
        "                for fH in range(filterHeight):\n",
        "                   for fW in range(filterWidth):\n",
        "                      for fCH in range(channels):\n",
        "                         filterSum += inputs[b, rH + fH, rW + fW, fCH] * weights[fH, fW, fCH, ch]\n",
        "                         result[b, rH, rW, ch] = filterSum + bias[ch]\n",
        "                         result[b, rH, rW, ch] = ReLU(result[b, rH, rW, ch])\n",
        "\n",
        "\n",
        "\n",
        "    return result\n",
        "\n",
        "\n",
        "def conv2dLayer(inputs, weights, bias):\n",
        "    inputs = np.array(inputs)\n",
        "    weights = np.array(weights)\n",
        "    bias = np.array(bias)\n",
        "\n",
        "    batch, height, width, filterChannels = inputs.shape\n",
        "    filterHeight = weights.shape[0]\n",
        "    filterWidth = weights.shape[1]\n",
        "    resultHeight = height - filterHeight + 1\n",
        "    resultWidth  = width - filterWidth + 1\n",
        "    channels = bias.shape[0]\n",
        "    result = np.zeros((batch, resultHeight, resultWidth, channels))\n",
        "\n",
        "    for b in range(batch):\n",
        "       for rH in range(resultHeight):\n",
        "          for rW in range(resultWidth):\n",
        "             for ch in range(channels):\n",
        "                filterSum = 0\n",
        "                for fH in range(filterHeight):\n",
        "                   for fW in range(filterWidth):\n",
        "                      for inCH in range(filterChannels):\n",
        "                         filterSum = filterSum + inputs[b, rH + fH, rW + fW, inCH] * weights[fH, fW, inCH, ch]\n",
        "                result[b, rH, rW, ch] = filterSum + bias[ch]\n",
        "                result[b, rH, rW, ch] = ReLU(result[b, rH, rW, ch])\n",
        "\n",
        "    return result\n",
        "\n",
        "#----------------------------------------------------------------------------------#\n",
        "\n",
        "def maxPooling2D(inputs):\n",
        "   inputs = np.array(inputs)\n",
        "   amount, height, width,channels = inputs.shape\n",
        "\n",
        "   result = np.zeros((amount, height // 2, width // 2, channels))\n",
        "\n",
        "   for a in range(amount):\n",
        "      for c in range(channels):\n",
        "         for h in range(height // 2):\n",
        "            for w in range(width // 2):\n",
        "               block2d = np.zeros((2,2))\n",
        "               for hb in range(2):\n",
        "                  for wb in range(2):\n",
        "                     block2d[hb,wb] = inputs[a, h * 2 + hb, w * 2 + wb, c]\n",
        "               result[a, h, w, c] = np.max(block2d)\n",
        "   return result\n",
        "#----------------------------------------------------------------------------------#\n",
        "\n",
        "def flatten(inputs):\n",
        "    inputs = np.array(inputs)\n",
        "    outputSize = inputs.shape[1] * inputs.shape[2] * inputs.shape[3]\n",
        "    print(outputSize)\n",
        "    result = np.zeros((inputs.shape[0],outputSize))\n",
        "\n",
        "    result = inputs.reshape((inputs.shape[0], outputSize))\n",
        "    return result\n",
        "\n",
        "def dense(inputs, weights, bias):\n",
        "    inputs  = np.array(inputs)\n",
        "    weights = np.array(weights)\n",
        "    bias = np.array(bias)\n",
        "\n",
        "    outputSize = bias.shape[0] #Should be 128\n",
        "    inputSize =  inputs.shape[1] #Should be 12544\n",
        "    outputAmount = inputs.shape[0] #Should be 1 (2 arrays)\n",
        "\n",
        "    result = np.zeros((outputAmount, outputSize))\n",
        "\n",
        "    for i in range(outputAmount):\n",
        "     for x in range(outputSize):\n",
        "      for y in range(inputSize):\n",
        "       result[i,x] += inputs[i,y] * weights[y,x]\n",
        "      result[i,x] += bias[x]\n",
        "      result[i,x] = ReLU(result[i,x])\n",
        "\n",
        "    return result\n",
        "\n",
        "#----------------------------------------------------------------------------------#\n",
        "def dense_layer2(inputs, weights, bias):\n",
        "   #Ensure that whatever we are getting is translated to numpy\n",
        "   inputs = np.array(inputs)\n",
        "   weights = np.array(weights)\n",
        "   bias = np.array(bias)\n",
        "\n",
        "   inputs_range_dimensions = inputs.shape[0] #check how many dimensions result has\n",
        "   inputs_range = inputs.shape[1] #128 values\n",
        "   output_range = bias.shape[0] #8 values\n",
        "   #get the shape of each input for the for loop\n",
        "   result = np.zeros((inputs_range_dimensions,output_range))\n",
        "\n",
        "   for i in range(inputs_range_dimensions):\n",
        "    for n in range(output_range):\n",
        "     for w in range(inputs_range):\n",
        "       #Inputs- 1,128, weights 128,8, bias(8)\n",
        "       result[i,n] = result[i,n] + inputs[i,w] * weights[w,n]\n",
        "     result[i,n] = result[i,n] + bias[n]\n",
        "   return result\n"
      ],
      "metadata": {
        "id": "a62g_3CNfCQL"
      },
      "execution_count": 5,
      "outputs": []
    },
    {
      "cell_type": "code",
      "source": [
        "'''\n",
        "Homma kannattaisi aloittaa verkon loppupäästä\n",
        "\n",
        "'''\n",
        "\n",
        "\n",
        "Layer = \"dense_1\"\n",
        "(start, layer, end) = get_reference_layer(Layer, model)\n",
        "print(start)\n",
        "print(layer)\n",
        "print(end)\n",
        "#print(get_layer_weights(\"dense_1\",model))\n",
        "print(get_weights_shape(get_layer_weights(Layer,model)))\n",
        "weights = get_layer_weights(Layer,model)\n",
        "\n",
        "#print(\"Original input\", model.input_shape)\n",
        "#print(\"Start input\", start.input_shape)\n",
        "#print(\"Layer input\", layer.input.shape)\n",
        "#print(\"End input\", end.input_shape)\n",
        "\n",
        "# To use the model parts, call the part with the input data\n",
        "result = start(x)             # tämä antaa siis verkon oikean tuloksen ennen viimeistä dense_1\n",
        "                              # layeriä\n",
        "layer_result = layer(result)  # Ja tämä tuloksen dense_1:n jälkeen\n",
        "a0 = result                   # viimeiseen neuroverkon kerrokseen menevät 128 neuronia inputtina\n",
        "print(a0.shape)\n",
        "#w1 = weights[0]\n",
        "#print(\"w1 = \", w1)\n",
        "#print(\"w1 shape = \", w1.shape)\n",
        "#b1 = weights[1]\n",
        "#print(\"b1 = \", b1)\n",
        "#print(\"b1 shape = \", b1.shape)\n",
        "#layer_oma_result = dense(a0,w1,b1)\n",
        "#layer_oma_result = resize_layer(a0)\n",
        "\n",
        "test_mode = 1\n",
        "if(test_mode == 1):\n",
        "  (start1, layer1, end1) = get_reference_layer(\"conv2d\", model)\n",
        "  result1 = start1(x)\n",
        "  a1 = result1\n",
        "  #----conv2D1Res---------#\n",
        "  wc2D, bc2D = get_layer_weights(\"conv2d\", model)\n",
        "  conv2D1Res = conv2dLayer1(a1, wc2D, bc2D)\n",
        "  #----conv2D2Res---------#\n",
        "  wc2D2, bc2D2 = get_layer_weights(\"conv2d_1\", model)\n",
        "  conv2D2Res = conv2dLayer(conv2D1Res, wc2D2, bc2D2)\n",
        "  #----maxPooling2DRes----#\n",
        "  maxPooling2DRes = maxPooling2D(conv2D2Res)\n",
        "  #-------flattenRes------#\n",
        "  flattenRes = flatten(maxPooling2DRes)\n",
        "  #----firstDesneRes------#\n",
        "  wd1, bd1 = get_layer_weights(\"dense\",model)\n",
        "  fristDenseRes = dense(flattenRes, wd1, bd1)\n",
        "  #---secondDenseRes------#\n",
        "  wd2, bd2 = get_layer_weights(\"dense_1\", model)\n",
        "  secondDenseRes = dense_layer2(fristDenseRes, wd2, bd2)\n",
        "  #---FinalResult---------#\n",
        "  layer_oma_result = secondDenseRes\n",
        "\n",
        "#print(\"Oma tulos = \",layer_oma_result)\n",
        "#print(\"Tuloksen shape =\", layer_oma_result.shape)\n",
        "\n",
        "layerSample = np.array(layer_result)\n",
        "\n",
        "\n",
        "#print(\"Oma tulos: \", layer_oma_result)\n",
        "#print(\"Layerin tulos = \", layer_result)\n",
        "print(\"Layer shape = \", layer_result.shape)\n",
        "\n",
        "difference = layerSample - layer_oma_result\n",
        "absolute = np.abs(difference)\n",
        "average = np.mean(absolute)\n",
        "print(\"Layer comparison: \", average)\n",
        "print(\"Original layer shape: \", layerSample.shape, \"My layer shape: \", layer_oma_result.shape)\n",
        "print(layer_result[0,:])\n",
        "x_labels = ['no', 'yes', 'down', 'go', 'left', 'up', 'right', 'stop']\n",
        "plt.figure(1)\n",
        "plt.subplot(1,2,1)\n",
        "plt.bar(x_labels, tf.nn.softmax(layer_result[0,:]))\n",
        "plt.subplot(1,2,2)\n",
        "plt.bar(x_labels, tf.nn.softmax(layer_oma_result[0,:]))\n",
        "plt.title('No')\n",
        "plt.show()"
      ],
      "metadata": {
        "colab": {
          "base_uri": "https://localhost:8080/",
          "height": 660
        },
        "id": "LAaV9-7cZlG-",
        "outputId": "c4cee54f-8e9d-4aeb-8420-7889f0c737a0"
      },
      "execution_count": 13,
      "outputs": [
        {
          "output_type": "stream",
          "name": "stdout",
          "text": [
            "<Sequential name=sequential_4, built=True>\n",
            "<Dense name=dense_1, built=True>\n",
            "<Sequential name=sequential_5, built=True>\n",
            "[(128, 8), (8,)]\n",
            "(1, 128)\n",
            "12544\n",
            "Layer shape =  (1, 8)\n",
            "Layer comparison:  2.0494203822191137e-07\n",
            "Original layer shape:  (1, 8) My layer shape:  (1, 8)\n",
            "tf.Tensor(\n",
            "[-5.885276    0.9491778  -0.4829279  -0.80634487 -5.8623486   4.50151\n",
            "  7.7014246  -8.871557  ], shape=(8,), dtype=float32)\n"
          ]
        },
        {
          "output_type": "display_data",
          "data": {
            "text/plain": [
              "<Figure size 640x480 with 2 Axes>"
            ],
            "image/png": "[encoded data removed]"
          },
          "metadata": {}
        }
      ]
    }
  ]
}